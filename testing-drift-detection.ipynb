{
 "cells": [
  {
   "cell_type": "markdown",
   "metadata": {},
   "source": [
    "## Testing Drift Detection"
   ]
  },
  {
   "cell_type": "markdown",
   "metadata": {},
   "source": [
    "#### Imports"
   ]
  },
  {
   "cell_type": "code",
   "execution_count": 1,
   "metadata": {},
   "outputs": [],
   "source": [
    "import numpy as np\n",
    "import pandas as pd"
   ]
  },
  {
   "cell_type": "code",
   "execution_count": null,
   "metadata": {},
   "outputs": [],
   "source": [
    "test_df = {\"descriptions\": [\n",
    "    \"swish ab svenska spelsvenska spel vegas\",\n",
    "    \"insättning kort 367138 maxi ica storma\"\n",
    "    \"transportstyrels bg 6666626216789\",\n",
    "    \"swish betalning leoex limited\",\n",
    "    \"kortköp 614150 bolt.eu/o/6141504667\",\n",
    "    \"betalning bg 2400-2876 mervärde mas\",\n",
    "    \"coop stora rådmansgata,simrishamn,se\"\n",
    "    \"dollarstore 208 trollh,trollhattan,se\",\n",
    "    \"\"\n",
    "]}"
   ]
  }
 ],
 "metadata": {
  "kernelspec": {
   "display_name": "master-thesis",
   "language": "python",
   "name": "python3"
  },
  "language_info": {
   "codemirror_mode": {
    "name": "ipython",
    "version": 3
   },
   "file_extension": ".py",
   "mimetype": "text/x-python",
   "name": "python",
   "nbconvert_exporter": "python",
   "pygments_lexer": "ipython3",
   "version": "undefined.undefined.undefined"
  }
 },
 "nbformat": 4,
 "nbformat_minor": 2
}
